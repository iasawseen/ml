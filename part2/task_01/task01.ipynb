{
 "cells": [
  {
   "cell_type": "code",
   "execution_count": 1,
   "metadata": {
    "collapsed": true
   },
   "outputs": [],
   "source": [
    "import xml.etree.ElementTree as ET\n",
    "import re\n",
    "import nltk\n",
    "from nltk.corpus import stopwords\n",
    "from sklearn.feature_extraction.text import CountVectorizer\n",
    "from pymorphy2 import MorphAnalyzer\n",
    "from tqdm import tqdm_notebook\n",
    "from scipy.sparse import csc_matrix\n",
    "from scipy.sparse.linalg import svds\n",
    "from time import time\n",
    "import numpy as np\n",
    "import sparsesvd"
   ]
  },
  {
   "cell_type": "markdown",
   "metadata": {},
   "source": [
    "Parsing XML file"
   ]
  },
  {
   "cell_type": "code",
   "execution_count": 2,
   "metadata": {},
   "outputs": [
    {
     "name": "stderr",
     "output_type": "stream",
     "text": [
      "Widget Javascript not detected.  It may not be installed or enabled properly.\n"
     ]
    },
    {
     "data": {
      "application/vnd.jupyter.widget-view+json": {
       "model_id": "9b6f57f6b9f94916a32879c7f7a58092"
      }
     },
     "metadata": {},
     "output_type": "display_data"
    },
    {
     "name": "stdout",
     "output_type": "stream",
     "text": [
      "\n",
      "литва официальный название литовский республика государство географически расположить северный европа прибалтика столица страна вильнюс расположить восточный побережье балтийский море север граничить латвия юговосток белоруссия югозапад польша калининградский область россия член оон год ес нато год входить шенгенский зона еврозона поверхность равнинный след древний оледенение поль луга занимать территория леса кустарник болото внутренний вода высокий точка метр уровень море холм аукштояс аукштасис калнас юговосточный часть страна километр вильнюс крупный река неман нямунас вилий тысяча озр территория крупный друкшяй граница латвия литва белоруссия площадь километр самый глубокий таурагнас метр самый длинный асвеять длина километр местечко дубингяй климат переходный морской континентальный средний температура зимой минус летом выпадать мм осадок год полезный ископаемое торф минеральныематериал строительный материал территория современный литва заселить человек конец тысячелетие наш\n"
     ]
    }
   ],
   "source": [
    "def parsing(filename):\n",
    "    pages = ET.parse(filename).getroot()\n",
    "    texts = [page.text for page in pages]\n",
    "    morph = MorphAnalyzer()\n",
    "    \n",
    "    def process_text(text):\n",
    "        # Removing punctuation, numbers and processing to lower case\n",
    "        text = re.sub('[^а-яА-Я\\s]', '', text).lower()\n",
    "        words = text.split()\n",
    "        \n",
    "        # Removing stop words\n",
    "        russian_stopwords = stopwords.words('russian')\n",
    "#         english_stopwords = stopwords.words('english')\n",
    "        \n",
    "        stops = set(russian_stopwords)\n",
    "        \n",
    "        words = [morph.parse(word)[0].normal_form for word in words if not word in stops]\n",
    "        return ' '.join(words)\n",
    "    \n",
    "    return [process_text(text) for text in tqdm_notebook(texts)]\n",
    "\n",
    "file = 'wikipedia_2000_dump.xml'\n",
    "texts = parsing(file)\n",
    "print(texts[0][:995])"
   ]
  },
  {
   "cell_type": "markdown",
   "metadata": {},
   "source": [
    "Creating bag of words"
   ]
  },
  {
   "cell_type": "code",
   "execution_count": 3,
   "metadata": {},
   "outputs": [
    {
     "name": "stdout",
     "output_type": "stream",
     "text": [
      "elapsed time: 2.71 s\n",
      "(2000, 128333)\n"
     ]
    }
   ],
   "source": [
    "start = time()\n",
    "vectorizer = CountVectorizer(analyzer='word')\n",
    "\n",
    "features = vectorizer.fit_transform(texts)\n",
    "end = time()\n",
    "print('elapsed time: {:.2f} s'.format(end - start))\n",
    "print(features.shape)"
   ]
  },
  {
   "cell_type": "code",
   "execution_count": 4,
   "metadata": {},
   "outputs": [
    {
     "name": "stdout",
     "output_type": "stream",
     "text": [
      "efficient dimension is about 974.05\n"
     ]
    }
   ],
   "source": [
    "sp_matrix = csc_matrix(features, dtype=np.float32)\n",
    "_, singulars, _ = sparsesvd.sparsesvd(sp_matrix, sp_matrix.shape[1])\n",
    "p_k = singulars / np.sum(singulars)\n",
    "print('efficient dimension is about {:.2f}'.format(np.exp(-1 * np.sum(p_k * np.log(p_k)))))"
   ]
  },
  {
   "cell_type": "code",
   "execution_count": null,
   "metadata": {
    "collapsed": true
   },
   "outputs": [],
   "source": []
  }
 ],
 "metadata": {
  "kernelspec": {
   "display_name": "Python 3",
   "language": "python",
   "name": "python3"
  },
  "language_info": {
   "codemirror_mode": {
    "name": "ipython",
    "version": 3
   },
   "file_extension": ".py",
   "mimetype": "text/x-python",
   "name": "python",
   "nbconvert_exporter": "python",
   "pygments_lexer": "ipython3",
   "version": "3.5.3"
  }
 },
 "nbformat": 4,
 "nbformat_minor": 2
}
