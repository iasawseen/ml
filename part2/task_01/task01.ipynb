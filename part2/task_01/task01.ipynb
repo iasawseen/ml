{
 "cells": [
  {
   "cell_type": "code",
   "execution_count": 1,
   "metadata": {
    "collapsed": true
   },
   "outputs": [],
   "source": [
    "import xml.etree.ElementTree as ET\n",
    "import re\n",
    "import nltk\n",
    "from nltk.corpus import stopwords\n",
    "from sklearn.feature_extraction.text import CountVectorizer\n",
    "from pymorphy2 import MorphAnalyzer\n",
    "from tqdm import tqdm_notebook\n",
    "from scipy.sparse import csc_matrix\n",
    "from scipy.sparse.linalg import svds\n",
    "from time import time\n",
    "import numpy as np\n",
    "import sparsesvd"
   ]
  },
  {
   "cell_type": "markdown",
   "metadata": {},
   "source": [
    "Parsing XML file"
   ]
  },
  {
   "cell_type": "code",
   "execution_count": null,
   "metadata": {},
   "outputs": [
    {
     "data": {
      "application/vnd.jupyter.widget-view+json": {
       "model_id": "24ec9ec422ca4df9950a699473e57b27"
      }
     },
     "metadata": {},
     "output_type": "display_data"
    }
   ],
   "source": [
    "def parsing(filename):\n",
    "    pages = ET.parse(filename).getroot()\n",
    "    texts = [page.text for page in pages]\n",
    "    morph = MorphAnalyzer()\n",
    "    \n",
    "    def process_text(text):\n",
    "        # Removing punctuation, numbers and processing to lower case\n",
    "        text = re.sub('[^а-яА-Я\\s]', '', text).lower()\n",
    "        words = text.split()\n",
    "        # Removing stop words\n",
    "        std_stopwords = stopwords.words('russian')\n",
    "        expansion = [\n",
    "        u'я', u'а', u'да', u'но', u'тебе', u'мне', u'ты', u'и', u'у', u'на', u'ща', u'ага',\n",
    "        u'так', u'там', u'какие', u'который', u'какая', u'туда', u'давай', u'короче', u'кажется', u'вообще',\n",
    "        u'ну', u'не', u'чет', u'неа', u'свои', u'наше', u'хотя', u'такое', u'например', u'кароч', u'как-то',\n",
    "        u'нам', u'хм', u'всем', u'нет', u'да', u'оно', u'своем', u'про', u'вы', u'м', u'тд',\n",
    "        u'вся', u'кто-то', u'что-то', u'вам', u'это', u'эта', u'эти', u'этот', u'прям', u'либо', u'как', u'мы',\n",
    "        u'просто', u'блин', u'очень', u'самые', u'твоем', u'ваша', u'кстати', u'вроде', u'типа', u'пока', u'ок']\n",
    "        std_stopwords.extend(expansion)\n",
    "        \n",
    "        stop_words = set(std_stopwords)\n",
    "        \n",
    "        words = [str(morph.parse(word)[0]) for word in words if not word in std_stopwords]\n",
    "        return ' '.join(words)\n",
    "    \n",
    "    return [process_text(text) for text in tqdm_notebook(texts)]\n",
    "\n",
    "file = 'wikipedia_2000_dump.xml'\n",
    "texts = parsing(file)\n",
    "print(texts[0])"
   ]
  },
  {
   "cell_type": "markdown",
   "metadata": {},
   "source": [
    "Creating bag of words"
   ]
  },
  {
   "cell_type": "code",
   "execution_count": 3,
   "metadata": {},
   "outputs": [
    {
     "name": "stdout",
     "output_type": "stream",
     "text": [
      "elapsed time: 34.2149 s\n",
      "(2000, 76116)\n"
     ]
    }
   ],
   "source": [
    "start = time()\n",
    "vectorizer = CountVectorizer(analyzer='word', min_df=5)\n",
    "\n",
    "features = vectorizer.fit_transform(texts)\n",
    "end = time()\n",
    "print('elapsed time: {:.4f} s'.format(end - start))\n",
    "print(features.shape)"
   ]
  },
  {
   "cell_type": "code",
   "execution_count": 4,
   "metadata": {},
   "outputs": [
    {
     "name": "stdout",
     "output_type": "stream",
     "text": [
      "(2000, 76116)\n",
      "66.2432679606\n"
     ]
    }
   ],
   "source": [
    "sp_matrix = csc_matrix(features, dtype=np.float32)\n",
    "# _, s, _ = svds(sp_matrix, k=50)\n",
    "_, s, _ = sparsesvd.sparsesvd(sp_matrix, sp_matrix.shape[1])\n",
    "p = s / np.sum(s)\n",
    "print(np.exp(-1 * np.sum([p_k * np.log(p_k) for p_k in p])))"
   ]
  },
  {
   "cell_type": "code",
   "execution_count": null,
   "metadata": {
    "collapsed": true
   },
   "outputs": [],
   "source": []
  }
 ],
 "metadata": {
  "kernelspec": {
   "display_name": "Python 3",
   "language": "python",
   "name": "python3"
  },
  "language_info": {
   "codemirror_mode": {
    "name": "ipython",
    "version": 3
   },
   "file_extension": ".py",
   "mimetype": "text/x-python",
   "name": "python",
   "nbconvert_exporter": "python",
   "pygments_lexer": "ipython3",
   "version": "3.5.3"
  }
 },
 "nbformat": 4,
 "nbformat_minor": 2
}
