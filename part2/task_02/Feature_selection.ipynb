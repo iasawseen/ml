{
 "cells": [
  {
   "cell_type": "code",
   "execution_count": 285,
   "metadata": {
    "collapsed": true
   },
   "outputs": [],
   "source": [
    "import pandas as pd\n",
    "import numpy as np\n",
    "from sklearn import linear_model\n",
    "from sklearn.metrics import mean_squared_error\n",
    "from sklearn.decomposition import FastICA, KernelPCA, PCA, TruncatedSVD\n",
    "from sklearn.feature_selection import SelectKBest, \\\n",
    "f_regression, mutual_info_regression, VarianceThreshold, RFE\n",
    "from sklearn.ensemble import RandomForestRegressor\n",
    "\n",
    "\n",
    "SELECTORS = {'f_reg': f_regression, 'mut_info': mutual_info_regression}\n",
    "\n",
    "\n",
    "EXTRACTORS = {'fast_ica': FastICA, 'kernel_pca': KernelPCA, 'pca': PCA,\n",
    "              'trunk_svd': TruncatedSVD}\n",
    "\n",
    "\n",
    "MODEL = RandomForestRegressor\n",
    "MODEL = linear_model.Ridge\n",
    "MODEL = linear_model.LinearRegression\n"
   ]
  },
  {
   "cell_type": "code",
   "execution_count": 286,
   "metadata": {
    "collapsed": true
   },
   "outputs": [],
   "source": [
    "train = pd.read_csv(filepath_or_buffer='features.txt', sep='\\t')\n",
    "test = pd.read_csv(filepath_or_buffer='featuresTest.txt', sep='\\t')"
   ]
  },
  {
   "cell_type": "code",
   "execution_count": 287,
   "metadata": {
    "collapsed": true
   },
   "outputs": [],
   "source": [
    "train = train.as_matrix()\n",
    "test = test.as_matrix()"
   ]
  },
  {
   "cell_type": "code",
   "execution_count": 288,
   "metadata": {
    "collapsed": true
   },
   "outputs": [],
   "source": [
    "def get_X_y(raw_data):\n",
    "    y = np.array(raw_data[:, 1], dtype=np.float32)\n",
    "    X = np.array(np.delete(raw_data, np.s_[0:4:1], 1), dtype=np.float32)\n",
    "    return X, y\n",
    "\n",
    "X_train, y_train = get_X_y(train)\n",
    "X_test, y_test = get_X_y(test)"
   ]
  },
  {
   "cell_type": "code",
   "execution_count": null,
   "metadata": {
    "collapsed": true
   },
   "outputs": [],
   "source": []
  },
  {
   "cell_type": "code",
   "execution_count": 289,
   "metadata": {
    "collapsed": true
   },
   "outputs": [],
   "source": [
    "def build_model():\n",
    "    return MODEL()\n",
    "    \n",
    "    \n",
    "def print_rmse(selector_name, X, y, X_test, y_test):\n",
    "    model = build_model()\n",
    "    model.fit(X, y)\n",
    "    y_pred = model.predict(X_test)\n",
    "    rmse = np.sqrt(mean_squared_error(y_test, y_pred))\n",
    "    print('feature selection {}, rmse={:.6f}'.format(selector_name, \n",
    "                                                     rmse))\n",
    "\n",
    "def test_feature_selection():\n",
    "    processor = VarianceThreshold(threshold=(0.99 * (1 - 0.99)))\n",
    "    processor.fit(X_train)\n",
    "\n",
    "    processed_X_train = processor.transform(X_train)\n",
    "    processed_X_test = processor.transform(X_test)\n",
    "    \n",
    "    selector = SelectKBest(score_func=f_regression, k=10)\n",
    "    rfe = RFE(estimator=build_model(), n_features_to_select=1, step=1)\n",
    "    \n",
    "    \n",
    "    for name, opt in [('kBest', selector), ('rfe', rfe)]:\n",
    "        opt.fit(processed_X_train, y_train)\n",
    "        X_train_transformed = opt.transform(processed_X_train)\n",
    "        X_test_transformed = opt.transform(processed_X_test)\n",
    "        \n",
    "        print_rmse(name, X_train_transformed, y_train, \n",
    "                   X_test_transformed, y_test)\n",
    "    \n",
    "    reg = build_model()\n",
    "    reg.fit(X_train, y_train)\n",
    "    y_pred = reg.predict(X_test)\n",
    "    rmse = np.sqrt(mean_squared_error(y_test, y_pred))\n",
    "\n",
    "    print('w/o feature selection, rmse={:.6f}'.format(rmse))"
   ]
  },
  {
   "cell_type": "code",
   "execution_count": 290,
   "metadata": {},
   "outputs": [
    {
     "name": "stdout",
     "output_type": "stream",
     "text": [
      "feature selection kBest, rmse=0.077807\n",
      "feature selection rfe, rmse=0.079861\n",
      "w/o feature selection, rmse=0.076850\n"
     ]
    }
   ],
   "source": [
    "test_feature_selection()"
   ]
  },
  {
   "cell_type": "code",
   "execution_count": null,
   "metadata": {
    "collapsed": true
   },
   "outputs": [],
   "source": []
  },
  {
   "cell_type": "code",
   "execution_count": 291,
   "metadata": {
    "collapsed": true
   },
   "outputs": [],
   "source": [
    "def test_feature_extraction(decomp_name):\n",
    "    \n",
    "    decomp = DECOMS[decomp_name](n_components=10)\n",
    "    decomp.fit(X_train)\n",
    "    X_train_decomp = decomp.transform(X_train)\n",
    "    X_test_decomp = decomp.transform(X_test)\n",
    "    \n",
    "    clf = linear_model.LinearRegression()\n",
    "    clf.fit(X_train_decomp, y_train)\n",
    "    y_pred = clf.predict(X_test_decomp)\n",
    "    rmse = np.sqrt(mean_squared_error(y_test, y_pred))\n",
    "\n",
    "    print('decom_name: {}, rmse={:.6f}'.format(decomp_name, rmse))"
   ]
  },
  {
   "cell_type": "code",
   "execution_count": 292,
   "metadata": {},
   "outputs": [
    {
     "name": "stdout",
     "output_type": "stream",
     "text": [
      "decom_name: None, rmse=0.076850\n",
      "decom_name: kernel_pca, rmse=0.077700\n",
      "decom_name: pca, rmse=0.077700\n",
      "decom_name: trunk_svd, rmse=0.077710\n",
      "decom_name: fast_ica, rmse=0.077700\n"
     ]
    }
   ],
   "source": [
    "clf = linear_model.LinearRegression()\n",
    "clf.fit(X_train, y_train)\n",
    "y_pred = clf.predict(X_test)\n",
    "rmse = np.sqrt(mean_squared_error(y_test, y_pred))\n",
    "print('decom_name: {}, rmse={:.6f}'.format('None', rmse))\n",
    "\n",
    "for name in DECOMS:\n",
    "    test_feature_extraction(name)"
   ]
  },
  {
   "cell_type": "code",
   "execution_count": null,
   "metadata": {
    "collapsed": true
   },
   "outputs": [],
   "source": []
  }
 ],
 "metadata": {
  "kernelspec": {
   "display_name": "Python 3",
   "language": "python",
   "name": "python3"
  },
  "language_info": {
   "codemirror_mode": {
    "name": "ipython",
    "version": 3
   },
   "file_extension": ".py",
   "mimetype": "text/x-python",
   "name": "python",
   "nbconvert_exporter": "python",
   "pygments_lexer": "ipython3",
   "version": "3.5.3"
  }
 },
 "nbformat": 4,
 "nbformat_minor": 2
}
